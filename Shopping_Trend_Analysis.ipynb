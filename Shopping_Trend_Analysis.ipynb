{
 "cells": [
  {
   "cell_type": "markdown",
   "id": "e69c17d1",
   "metadata": {},
   "source": [
    "# Shopping Trend Analysis"
   ]
  },
  {
   "cell_type": "markdown",
   "id": "6e8a7987",
   "metadata": {},
   "source": [
    "## Install Libraries"
   ]
  },
  {
   "cell_type": "code",
   "execution_count": 1,
   "id": "c7471623",
   "metadata": {},
   "outputs": [
    {
     "name": "stdout",
     "output_type": "stream",
     "text": [
      "Requirement already satisfied: mysql-connector-python in /Users/oindrilasen/opt/anaconda3/lib/python3.8/site-packages (8.0.27)\n",
      "Requirement already satisfied: protobuf>=3.0.0 in /Users/oindrilasen/opt/anaconda3/lib/python3.8/site-packages (from mysql-connector-python) (3.19.1)\n",
      "Note: you may need to restart the kernel to use updated packages.\n"
     ]
    }
   ],
   "source": [
    "pip install mysql-connector-python"
   ]
  },
  {
   "cell_type": "markdown",
   "id": "7023983a",
   "metadata": {},
   "source": [
    "## Import Libraries"
   ]
  },
  {
   "cell_type": "code",
   "execution_count": 2,
   "id": "5fb95ee1",
   "metadata": {},
   "outputs": [],
   "source": [
    "import mysql.connector as connection\n",
    "import pandas as pd\n",
    "import numpy as np"
   ]
  },
  {
   "cell_type": "markdown",
   "id": "1cbeeba7",
   "metadata": {},
   "source": [
    "## Create a Database Connection"
   ]
  },
  {
   "cell_type": "code",
   "execution_count": 3,
   "id": "bb41db40",
   "metadata": {},
   "outputs": [],
   "source": [
    "try:\n",
    "    mydb = connection.connect(host=\"localhost\",\n",
    "                             user = \"devuser\",\n",
    "                             password = \"test1234\",\n",
    "                             database= \"customer_marketing\")\n",
    "    query = \"SELECT *  FROM cust_marketing_campaign;\"\n",
    "    df_customer = pd.read_sql(query,mydb)\n",
    "    mydb.close()\n",
    "except Exception as e:\n",
    "    mydb.close()\n",
    "    print(str(e))"
   ]
  },
  {
   "cell_type": "markdown",
   "id": "ee509ed8",
   "metadata": {},
   "source": [
    "## Check Data"
   ]
  },
  {
   "cell_type": "code",
   "execution_count": 4,
   "id": "919decdd",
   "metadata": {},
   "outputs": [
    {
     "data": {
      "text/html": [
       "<div>\n",
       "<style scoped>\n",
       "    .dataframe tbody tr th:only-of-type {\n",
       "        vertical-align: middle;\n",
       "    }\n",
       "\n",
       "    .dataframe tbody tr th {\n",
       "        vertical-align: top;\n",
       "    }\n",
       "\n",
       "    .dataframe thead th {\n",
       "        text-align: right;\n",
       "    }\n",
       "</style>\n",
       "<table border=\"1\" class=\"dataframe\">\n",
       "  <thead>\n",
       "    <tr style=\"text-align: right;\">\n",
       "      <th></th>\n",
       "      <th>ID</th>\n",
       "      <th>Year_Birth</th>\n",
       "      <th>Education</th>\n",
       "      <th>Marital_Status</th>\n",
       "      <th>Income</th>\n",
       "      <th>Kidhome</th>\n",
       "      <th>Teenhome</th>\n",
       "      <th>Dt_Customer</th>\n",
       "      <th>Recency</th>\n",
       "      <th>MntWines</th>\n",
       "      <th>...</th>\n",
       "      <th>NumWebVisitsMonth</th>\n",
       "      <th>AcceptedCmp3</th>\n",
       "      <th>AcceptedCmp4</th>\n",
       "      <th>AcceptedCmp5</th>\n",
       "      <th>AcceptedCmp1</th>\n",
       "      <th>AcceptedCmp2</th>\n",
       "      <th>Complain</th>\n",
       "      <th>Z_CostContact</th>\n",
       "      <th>Z_Revenue</th>\n",
       "      <th>Response</th>\n",
       "    </tr>\n",
       "  </thead>\n",
       "  <tbody>\n",
       "    <tr>\n",
       "      <th>0</th>\n",
       "      <td>5524</td>\n",
       "      <td>1957</td>\n",
       "      <td>Graduation</td>\n",
       "      <td>Single</td>\n",
       "      <td>58138</td>\n",
       "      <td>0</td>\n",
       "      <td>0</td>\n",
       "      <td>04-09-2012</td>\n",
       "      <td>58</td>\n",
       "      <td>635</td>\n",
       "      <td>...</td>\n",
       "      <td>7</td>\n",
       "      <td>0</td>\n",
       "      <td>0</td>\n",
       "      <td>0</td>\n",
       "      <td>0</td>\n",
       "      <td>0</td>\n",
       "      <td>0</td>\n",
       "      <td>3</td>\n",
       "      <td>11</td>\n",
       "      <td>1</td>\n",
       "    </tr>\n",
       "    <tr>\n",
       "      <th>1</th>\n",
       "      <td>2174</td>\n",
       "      <td>1954</td>\n",
       "      <td>Graduation</td>\n",
       "      <td>Single</td>\n",
       "      <td>46344</td>\n",
       "      <td>1</td>\n",
       "      <td>1</td>\n",
       "      <td>08-03-2014</td>\n",
       "      <td>38</td>\n",
       "      <td>11</td>\n",
       "      <td>...</td>\n",
       "      <td>5</td>\n",
       "      <td>0</td>\n",
       "      <td>0</td>\n",
       "      <td>0</td>\n",
       "      <td>0</td>\n",
       "      <td>0</td>\n",
       "      <td>0</td>\n",
       "      <td>3</td>\n",
       "      <td>11</td>\n",
       "      <td>0</td>\n",
       "    </tr>\n",
       "    <tr>\n",
       "      <th>2</th>\n",
       "      <td>4141</td>\n",
       "      <td>1965</td>\n",
       "      <td>Graduation</td>\n",
       "      <td>Together</td>\n",
       "      <td>71613</td>\n",
       "      <td>0</td>\n",
       "      <td>0</td>\n",
       "      <td>21-08-2013</td>\n",
       "      <td>26</td>\n",
       "      <td>426</td>\n",
       "      <td>...</td>\n",
       "      <td>4</td>\n",
       "      <td>0</td>\n",
       "      <td>0</td>\n",
       "      <td>0</td>\n",
       "      <td>0</td>\n",
       "      <td>0</td>\n",
       "      <td>0</td>\n",
       "      <td>3</td>\n",
       "      <td>11</td>\n",
       "      <td>0</td>\n",
       "    </tr>\n",
       "    <tr>\n",
       "      <th>3</th>\n",
       "      <td>6182</td>\n",
       "      <td>1984</td>\n",
       "      <td>Graduation</td>\n",
       "      <td>Together</td>\n",
       "      <td>26646</td>\n",
       "      <td>1</td>\n",
       "      <td>0</td>\n",
       "      <td>10-02-2014</td>\n",
       "      <td>26</td>\n",
       "      <td>11</td>\n",
       "      <td>...</td>\n",
       "      <td>6</td>\n",
       "      <td>0</td>\n",
       "      <td>0</td>\n",
       "      <td>0</td>\n",
       "      <td>0</td>\n",
       "      <td>0</td>\n",
       "      <td>0</td>\n",
       "      <td>3</td>\n",
       "      <td>11</td>\n",
       "      <td>0</td>\n",
       "    </tr>\n",
       "    <tr>\n",
       "      <th>4</th>\n",
       "      <td>5324</td>\n",
       "      <td>1981</td>\n",
       "      <td>PhD</td>\n",
       "      <td>Married</td>\n",
       "      <td>58293</td>\n",
       "      <td>1</td>\n",
       "      <td>0</td>\n",
       "      <td>19-01-2014</td>\n",
       "      <td>94</td>\n",
       "      <td>173</td>\n",
       "      <td>...</td>\n",
       "      <td>5</td>\n",
       "      <td>0</td>\n",
       "      <td>0</td>\n",
       "      <td>0</td>\n",
       "      <td>0</td>\n",
       "      <td>0</td>\n",
       "      <td>0</td>\n",
       "      <td>3</td>\n",
       "      <td>11</td>\n",
       "      <td>0</td>\n",
       "    </tr>\n",
       "  </tbody>\n",
       "</table>\n",
       "<p>5 rows × 29 columns</p>\n",
       "</div>"
      ],
      "text/plain": [
       "     ID  Year_Birth   Education Marital_Status  Income  Kidhome  Teenhome  \\\n",
       "0  5524        1957  Graduation         Single   58138        0         0   \n",
       "1  2174        1954  Graduation         Single   46344        1         1   \n",
       "2  4141        1965  Graduation       Together   71613        0         0   \n",
       "3  6182        1984  Graduation       Together   26646        1         0   \n",
       "4  5324        1981         PhD        Married   58293        1         0   \n",
       "\n",
       "  Dt_Customer  Recency  MntWines  ...  NumWebVisitsMonth  AcceptedCmp3  \\\n",
       "0  04-09-2012       58       635  ...                  7             0   \n",
       "1  08-03-2014       38        11  ...                  5             0   \n",
       "2  21-08-2013       26       426  ...                  4             0   \n",
       "3  10-02-2014       26        11  ...                  6             0   \n",
       "4  19-01-2014       94       173  ...                  5             0   \n",
       "\n",
       "   AcceptedCmp4  AcceptedCmp5  AcceptedCmp1  AcceptedCmp2  Complain  \\\n",
       "0             0             0             0             0         0   \n",
       "1             0             0             0             0         0   \n",
       "2             0             0             0             0         0   \n",
       "3             0             0             0             0         0   \n",
       "4             0             0             0             0         0   \n",
       "\n",
       "   Z_CostContact  Z_Revenue  Response  \n",
       "0              3         11         1  \n",
       "1              3         11         0  \n",
       "2              3         11         0  \n",
       "3              3         11         0  \n",
       "4              3         11         0  \n",
       "\n",
       "[5 rows x 29 columns]"
      ]
     },
     "execution_count": 4,
     "metadata": {},
     "output_type": "execute_result"
    }
   ],
   "source": [
    "df_customer.head(5)"
   ]
  },
  {
   "cell_type": "code",
   "execution_count": 5,
   "id": "ab901155",
   "metadata": {},
   "outputs": [
    {
     "name": "stdout",
     "output_type": "stream",
     "text": [
      "<class 'pandas.core.frame.DataFrame'>\n",
      "RangeIndex: 2216 entries, 0 to 2215\n",
      "Data columns (total 29 columns):\n",
      " #   Column               Non-Null Count  Dtype \n",
      "---  ------               --------------  ----- \n",
      " 0   ID                   2216 non-null   int64 \n",
      " 1   Year_Birth           2216 non-null   int64 \n",
      " 2   Education            2216 non-null   object\n",
      " 3   Marital_Status       2216 non-null   object\n",
      " 4   Income               2216 non-null   int64 \n",
      " 5   Kidhome              2216 non-null   int64 \n",
      " 6   Teenhome             2216 non-null   int64 \n",
      " 7   Dt_Customer          2216 non-null   object\n",
      " 8   Recency              2216 non-null   int64 \n",
      " 9   MntWines             2216 non-null   int64 \n",
      " 10  MntFruits            2216 non-null   int64 \n",
      " 11  MntMeatProducts      2216 non-null   int64 \n",
      " 12  MntFishProducts      2216 non-null   int64 \n",
      " 13  MntSweetProducts     2216 non-null   int64 \n",
      " 14  MntGoldProds         2216 non-null   int64 \n",
      " 15  NumDealsPurchases    2216 non-null   int64 \n",
      " 16  NumWebPurchases      2216 non-null   int64 \n",
      " 17  NumCatalogPurchases  2216 non-null   int64 \n",
      " 18  NumStorePurchases    2216 non-null   int64 \n",
      " 19  NumWebVisitsMonth    2216 non-null   int64 \n",
      " 20  AcceptedCmp3         2216 non-null   int64 \n",
      " 21  AcceptedCmp4         2216 non-null   int64 \n",
      " 22  AcceptedCmp5         2216 non-null   int64 \n",
      " 23  AcceptedCmp1         2216 non-null   int64 \n",
      " 24  AcceptedCmp2         2216 non-null   int64 \n",
      " 25  Complain             2216 non-null   int64 \n",
      " 26  Z_CostContact        2216 non-null   int64 \n",
      " 27  Z_Revenue            2216 non-null   int64 \n",
      " 28  Response             2216 non-null   int64 \n",
      "dtypes: int64(26), object(3)\n",
      "memory usage: 502.2+ KB\n"
     ]
    }
   ],
   "source": [
    "df_customer.info()"
   ]
  },
  {
   "cell_type": "markdown",
   "id": "9eccfdb2",
   "metadata": {},
   "source": [
    "## Data Analysis"
   ]
  },
  {
   "cell_type": "markdown",
   "id": "102a5e30",
   "metadata": {},
   "source": [
    "### Change Data Type to Category"
   ]
  },
  {
   "cell_type": "code",
   "execution_count": 6,
   "id": "ab4ab1d8",
   "metadata": {},
   "outputs": [
    {
     "data": {
      "text/plain": [
       "array(['Graduation', 'PhD', 'Master', 'Basic', '2n Cycle'], dtype=object)"
      ]
     },
     "execution_count": 6,
     "metadata": {},
     "output_type": "execute_result"
    }
   ],
   "source": [
    "df_customer[\"Education\"].unique()"
   ]
  },
  {
   "cell_type": "code",
   "execution_count": 7,
   "id": "8908aaf9",
   "metadata": {},
   "outputs": [],
   "source": [
    "df_customer[\"Education\"] = df_customer[\"Education\"].astype('category')"
   ]
  },
  {
   "cell_type": "code",
   "execution_count": 8,
   "id": "4e7172f9",
   "metadata": {},
   "outputs": [
    {
     "data": {
      "text/plain": [
       "array(['Single', 'Together', 'Married', 'Divorced', 'Widow', 'Alone',\n",
       "       'Absurd', 'YOLO'], dtype=object)"
      ]
     },
     "execution_count": 8,
     "metadata": {},
     "output_type": "execute_result"
    }
   ],
   "source": [
    "df_customer[\"Marital_Status\"].unique()"
   ]
  },
  {
   "cell_type": "code",
   "execution_count": 9,
   "id": "6ba88b0f",
   "metadata": {},
   "outputs": [],
   "source": [
    "df_customer[\"Marital_Status\"] = df_customer[\"Marital_Status\"].astype('category')"
   ]
  },
  {
   "cell_type": "markdown",
   "id": "9636f874",
   "metadata": {},
   "source": [
    "### Change Column to Date"
   ]
  },
  {
   "cell_type": "code",
   "execution_count": 10,
   "id": "f161b68d",
   "metadata": {},
   "outputs": [
    {
     "data": {
      "text/plain": [
       "array(['04-09-2012', '08-03-2014', '21-08-2013', '10-02-2014',\n",
       "       '19-01-2014', '09-09-2013', '13-11-2012', '08-05-2013',\n",
       "       '06-06-2013', '13-03-2014', '15-11-2013', '10-10-2012',\n",
       "       '24-11-2012', '24-12-2012', '31-08-2012', '28-03-2013',\n",
       "       '03-11-2012', '08-08-2012', '06-01-2013', '23-12-2012',\n",
       "       '11-01-2014', '18-03-2013', '02-01-2013', '27-05-2013',\n",
       "       '31-05-2013', '22-11-2013', '22-05-2014', '11-05-2013',\n",
       "       '29-10-2012', '20-02-2013', '29-08-2013', '31-12-2013',\n",
       "       '02-09-2013', '11-02-2014', '01-02-2013', '29-04-2013',\n",
       "       '12-03-2013', '02-10-2013', '28-06-2014', '09-11-2012',\n",
       "       '24-05-2013', '08-11-2012', '12-05-2014', '11-08-2012',\n",
       "       '07-06-2014', '12-06-2013', '19-11-2012', '02-04-2013',\n",
       "       '28-04-2014', '03-03-2014', '04-07-2013', '07-09-2012',\n",
       "       '18-02-2013', '11-06-2013', '06-12-2013', '21-05-2013',\n",
       "       '11-05-2014', '19-03-2014', '27-09-2013', '08-04-2013',\n",
       "       '11-09-2012', '17-03-2013', '05-04-2013', '30-04-2014',\n",
       "       '19-12-2012', '27-08-2012', '12-10-2012', '04-09-2013',\n",
       "       '29-08-2012', '23-06-2013', '03-07-2013', '25-02-2014',\n",
       "       '11-08-2013', '16-07-2013', '28-05-2014', '21-01-2014',\n",
       "       '23-03-2014', '24-05-2014', '22-11-2012', '11-04-2013',\n",
       "       '01-12-2013', '20-06-2013', '23-07-2013', '30-03-2014',\n",
       "       '20-04-2013', '17-05-2013', '08-05-2014', '10-12-2013',\n",
       "       '24-09-2013', '02-02-2013', '07-12-2012', '02-11-2013',\n",
       "       '10-11-2012', '25-06-2014', '12-12-2012', '10-09-2013',\n",
       "       '24-01-2014', '19-02-2013', '11-07-2013', '14-11-2013',\n",
       "       '24-02-2014', '22-04-2013', '21-04-2013', '08-06-2014',\n",
       "       '10-05-2014', '30-09-2013', '10-03-2013', '14-08-2013',\n",
       "       '07-07-2013', '19-05-2014', '28-07-2013', '19-10-2012',\n",
       "       '19-04-2013', '28-08-2013', '19-03-2013', '18-10-2012',\n",
       "       '28-10-2012', '22-08-2012', '21-06-2014', '24-04-2014',\n",
       "       '07-03-2014', '14-12-2012', '09-10-2012', '08-07-2013',\n",
       "       '12-09-2013', '17-10-2013', '20-08-2013', '01-07-2013',\n",
       "       '05-11-2012', '05-01-2014', '01-05-2013', '01-03-2014',\n",
       "       '13-11-2013', '18-11-2013', '21-04-2014', '13-07-2013',\n",
       "       '30-01-2014', '04-04-2014', '12-09-2012', '16-12-2012',\n",
       "       '23-05-2014', '24-06-2014', '28-09-2013', '22-01-2014',\n",
       "       '15-06-2014', '05-12-2012', '02-08-2013', '23-02-2013',\n",
       "       '09-09-2012', '26-09-2013', '30-05-2013', '29-12-2013',\n",
       "       '13-05-2014', '19-09-2013', '17-01-2013', '31-03-2014',\n",
       "       '29-06-2014', '09-12-2013', '14-10-2013', '02-11-2012',\n",
       "       '17-07-2013', '08-12-2013', '13-05-2013', '10-09-2012',\n",
       "       '31-03-2013', '18-03-2014', '05-10-2012', '21-01-2013',\n",
       "       '04-05-2013', '01-04-2014', '31-08-2013', '14-11-2012',\n",
       "       '11-04-2014', '14-04-2014', '05-01-2013', '08-09-2012',\n",
       "       '26-03-2013', '25-10-2012', '09-12-2012', '16-02-2014',\n",
       "       '20-03-2013', '15-05-2013', '16-04-2014', '23-03-2013',\n",
       "       '04-12-2013', '04-10-2013', '26-12-2013', '17-05-2014',\n",
       "       '28-10-2013', '31-07-2013', '28-11-2013', '17-08-2012',\n",
       "       '05-06-2014', '20-05-2013', '09-01-2013', '16-09-2013',\n",
       "       '27-10-2013', '22-09-2012', '13-10-2012', '16-10-2012',\n",
       "       '22-10-2012', '04-06-2013', '22-05-2013', '17-06-2014',\n",
       "       '23-11-2012', '03-02-2013', '14-03-2013', '26-06-2014',\n",
       "       '15-10-2012', '19-06-2013', '20-03-2014', '04-02-2014',\n",
       "       '06-04-2014', '06-02-2013', '11-02-2013', '17-04-2014',\n",
       "       '12-07-2013', '29-01-2013', '08-01-2013', '13-06-2013',\n",
       "       '27-12-2013', '31-10-2012', '15-01-2014', '23-08-2012',\n",
       "       '07-03-2013', '13-01-2013', '12-01-2013', '17-03-2014',\n",
       "       '12-10-2013', '13-04-2014', '18-09-2012', '05-03-2014',\n",
       "       '27-04-2013', '18-01-2014', '17-12-2013', '11-03-2014',\n",
       "       '29-07-2013', '14-08-2012', '09-02-2014', '07-02-2013',\n",
       "       '11-01-2013', '05-07-2013', '02-07-2013', '07-11-2013',\n",
       "       '09-05-2013', '13-02-2013', '16-04-2013', '11-09-2013',\n",
       "       '03-04-2013', '10-01-2013', '30-06-2013', '06-12-2012',\n",
       "       '12-11-2012', '03-03-2013', '10-08-2012', '07-12-2013',\n",
       "       '15-08-2013', '10-11-2013', '16-06-2014', '25-12-2012',\n",
       "       '03-01-2014', '27-10-2012', '22-12-2012', '29-11-2013',\n",
       "       '08-10-2013', '28-09-2012', '22-03-2014', '28-12-2012',\n",
       "       '21-08-2012', '16-03-2013', '17-11-2012', '01-12-2012',\n",
       "       '22-04-2014', '11-11-2012', '22-06-2013', '18-08-2012',\n",
       "       '30-12-2012', '14-06-2013', '16-10-2013', '30-08-2012',\n",
       "       '04-05-2014', '18-04-2013', '06-10-2013', '15-09-2012',\n",
       "       '27-09-2012', '11-03-2013', '22-10-2013', '09-06-2014',\n",
       "       '30-05-2014', '17-10-2012', '30-03-2013', '23-01-2013',\n",
       "       '20-11-2013', '14-02-2014', '22-02-2013', '05-03-2013',\n",
       "       '06-05-2014', '13-04-2013', '05-04-2014', '25-04-2013',\n",
       "       '25-11-2013', '02-02-2014', '21-06-2013', '21-12-2013',\n",
       "       '07-09-2013', '22-08-2013', '20-12-2013', '06-08-2013',\n",
       "       '09-10-2013', '09-06-2013', '22-12-2013', '02-05-2013',\n",
       "       '16-02-2013', '20-08-2012', '01-04-2013', '25-05-2014',\n",
       "       '25-09-2012', '01-01-2014', '22-09-2013', '28-01-2014',\n",
       "       '23-04-2013', '06-03-2014', '15-08-2012', '27-03-2013',\n",
       "       '10-10-2013', '04-08-2012', '18-05-2014', '09-05-2014',\n",
       "       '23-10-2012', '30-12-2013', '19-08-2012', '30-10-2013',\n",
       "       '14-09-2012', '26-06-2013', '26-01-2014', '24-09-2012',\n",
       "       '03-12-2012', '27-11-2013', '06-08-2012', '29-12-2012',\n",
       "       '24-08-2012', '07-11-2012', '02-12-2013', '19-07-2013',\n",
       "       '25-05-2013', '20-10-2013', '14-04-2013', '23-08-2013',\n",
       "       '27-01-2014', '16-08-2013', '30-09-2012', '04-12-2012',\n",
       "       '12-08-2012', '03-11-2013', '15-02-2013', '18-09-2013',\n",
       "       '18-06-2014', '24-04-2013', '17-06-2013', '15-02-2014',\n",
       "       '08-08-2013', '23-12-2013', '28-11-2012', '07-08-2013',\n",
       "       '07-01-2014', '03-12-2013', '29-03-2014', '08-04-2014',\n",
       "       '07-02-2014', '06-11-2013', '01-03-2013', '03-08-2013',\n",
       "       '16-06-2013', '25-06-2013', '05-11-2013', '13-09-2013',\n",
       "       '01-08-2013', '31-01-2013', '09-07-2013', '15-04-2013',\n",
       "       '03-04-2014', '18-04-2014', '23-09-2012', '14-09-2013',\n",
       "       '26-10-2012', '19-10-2013', '21-02-2013', '17-09-2013',\n",
       "       '26-01-2013', '07-05-2014', '19-08-2013', '18-07-2013',\n",
       "       '11-12-2012', '26-07-2013', '06-05-2013', '03-06-2013',\n",
       "       '14-07-2013', '10-03-2014', '28-12-2013', '20-01-2013',\n",
       "       '21-09-2012', '06-09-2012', '18-12-2012', '19-11-2013',\n",
       "       '13-06-2014', '07-05-2013', '18-08-2013', '13-12-2013',\n",
       "       '17-02-2014', '03-08-2012', '04-01-2014', '21-10-2013',\n",
       "       '25-12-2013', '01-01-2013', '16-05-2013', '25-09-2013',\n",
       "       '08-11-2013', '16-12-2013', '30-10-2012', '02-01-2014',\n",
       "       '18-10-2013', '25-07-2013', '24-10-2013', '19-12-2013',\n",
       "       '16-05-2014', '04-10-2012', '25-08-2013', '29-05-2013',\n",
       "       '26-03-2014', '09-04-2014', '12-03-2014', '29-04-2014',\n",
       "       '27-06-2014', '10-04-2013', '21-11-2013', '21-10-2012',\n",
       "       '14-05-2013', '01-08-2012', '23-11-2013', '25-01-2014',\n",
       "       '11-10-2013', '07-08-2012', '29-03-2013', '03-06-2014',\n",
       "       '09-08-2012', '06-03-2013', '12-05-2013', '09-03-2014',\n",
       "       '15-09-2013', '29-01-2014', '03-10-2013', '28-02-2013',\n",
       "       '02-05-2014', '09-02-2013', '15-03-2013', '10-05-2013',\n",
       "       '05-09-2012', '01-09-2013', '26-05-2013', '12-12-2013',\n",
       "       '08-12-2012', '30-08-2013', '18-12-2013', '18-06-2013',\n",
       "       '29-05-2014', '15-01-2013', '29-10-2013', '02-03-2013',\n",
       "       '14-12-2013', '19-01-2013', '06-04-2013', '04-11-2013',\n",
       "       '22-03-2013', '31-05-2014', '04-02-2013', '05-05-2013',\n",
       "       '14-02-2013', '21-03-2014', '05-08-2013', '29-11-2012',\n",
       "       '27-07-2013', '13-01-2014', '29-09-2012', '23-10-2013',\n",
       "       '06-11-2012', '26-05-2014', '04-03-2014', '06-01-2014',\n",
       "       '11-06-2014', '19-06-2014', '26-11-2012', '11-12-2013',\n",
       "       '14-01-2014', '23-01-2014', '24-03-2013', '29-06-2013',\n",
       "       '25-01-2013', '17-11-2013', '18-05-2013', '17-04-2013',\n",
       "       '24-01-2013', '09-08-2013', '10-06-2013', '20-07-2013',\n",
       "       '28-05-2013', '04-03-2013', '01-10-2012', '10-02-2013',\n",
       "       '14-10-2012', '03-02-2014', '22-06-2014', '25-10-2013',\n",
       "       '18-02-2014', '09-11-2013', '13-08-2013', '25-08-2012',\n",
       "       '19-04-2014', '07-04-2014', '03-01-2013', '04-11-2012',\n",
       "       '22-01-2013', '26-02-2014', '23-04-2014', '30-07-2013',\n",
       "       '13-10-2013', '27-11-2012', '01-05-2014', '30-11-2012',\n",
       "       '17-08-2013', '04-01-2013', '03-05-2014', '26-04-2014',\n",
       "       '02-06-2014', '26-10-2013', '24-03-2014', '25-02-2013',\n",
       "       '20-09-2013', '16-01-2013', '24-12-2013', '18-11-2012',\n",
       "       '05-08-2012', '03-05-2013', '12-11-2013', '06-07-2013',\n",
       "       '21-07-2013', '20-10-2012', '23-05-2013', '26-08-2012',\n",
       "       '12-01-2014', '13-02-2014', '27-02-2014', '20-04-2014',\n",
       "       '28-06-2013', '28-04-2013', '21-03-2013', '27-08-2013',\n",
       "       '30-07-2012', '05-12-2013', '08-02-2013', '21-11-2012',\n",
       "       '26-02-2013', '20-09-2012', '08-06-2013', '05-09-2013',\n",
       "       '12-04-2014', '24-06-2013', '19-02-2014', '27-12-2012',\n",
       "       '01-11-2012', '22-07-2013', '31-01-2014', '26-08-2013',\n",
       "       '01-10-2013', '10-06-2014', '01-02-2014', '03-09-2012',\n",
       "       '26-09-2012', '31-07-2012', '02-12-2012', '05-05-2014',\n",
       "       '06-10-2012', '02-03-2014', '15-05-2014', '10-12-2012',\n",
       "       '13-08-2012', '23-02-2014', '16-03-2014', '21-09-2013',\n",
       "       '24-10-2012', '15-10-2013', '17-02-2013', '28-08-2012',\n",
       "       '12-02-2014', '08-02-2014', '01-09-2012', '16-11-2012',\n",
       "       '12-02-2013', '02-08-2012', '16-08-2012', '25-11-2012',\n",
       "       '27-04-2014', '30-04-2013', '20-11-2012', '14-06-2014',\n",
       "       '28-03-2014', '08-03-2013', '02-09-2012', '15-04-2014',\n",
       "       '25-04-2014', '27-06-2013', '01-06-2013', '05-10-2013',\n",
       "       '22-02-2014', '12-04-2013', '23-09-2013', '24-07-2013',\n",
       "       '23-06-2014', '10-01-2014', '25-03-2013', '17-01-2014',\n",
       "       '04-06-2014', '25-03-2014', '31-12-2012', '19-09-2012',\n",
       "       '27-02-2013', '02-10-2012', '09-04-2013', '02-04-2014',\n",
       "       '07-01-2013', '26-11-2013', '04-08-2013', '17-12-2012',\n",
       "       '06-06-2014', '19-05-2013', '12-08-2013', '15-12-2013',\n",
       "       '07-10-2012', '06-09-2013', '15-07-2013', '27-01-2013',\n",
       "       '05-02-2014', '26-12-2012', '06-02-2014', '14-01-2013',\n",
       "       '20-06-2014', '24-08-2013', '28-02-2014', '07-04-2013',\n",
       "       '10-04-2014', '12-06-2014', '30-11-2013', '09-03-2013',\n",
       "       '27-03-2014', '15-12-2012', '17-09-2012', '02-06-2013',\n",
       "       '21-12-2012', '01-11-2013', '10-08-2013', '11-10-2012',\n",
       "       '20-12-2012', '09-01-2014'], dtype=object)"
      ]
     },
     "execution_count": 10,
     "metadata": {},
     "output_type": "execute_result"
    }
   ],
   "source": [
    "df_customer[\"Dt_Customer\"].unique()"
   ]
  },
  {
   "cell_type": "code",
   "execution_count": 11,
   "id": "20df2c2b",
   "metadata": {},
   "outputs": [],
   "source": [
    "df_customer[\"Dt_Customer\"] = pd.to_datetime(df_customer[\"Dt_Customer\"])"
   ]
  },
  {
   "cell_type": "code",
   "execution_count": 12,
   "id": "e6fb7b26",
   "metadata": {},
   "outputs": [
    {
     "data": {
      "text/plain": [
       "ID                              int64\n",
       "Year_Birth                      int64\n",
       "Education                    category\n",
       "Marital_Status               category\n",
       "Income                          int64\n",
       "Kidhome                         int64\n",
       "Teenhome                        int64\n",
       "Dt_Customer            datetime64[ns]\n",
       "Recency                         int64\n",
       "MntWines                        int64\n",
       "MntFruits                       int64\n",
       "MntMeatProducts                 int64\n",
       "MntFishProducts                 int64\n",
       "MntSweetProducts                int64\n",
       "MntGoldProds                    int64\n",
       "NumDealsPurchases               int64\n",
       "NumWebPurchases                 int64\n",
       "NumCatalogPurchases             int64\n",
       "NumStorePurchases               int64\n",
       "NumWebVisitsMonth               int64\n",
       "AcceptedCmp3                    int64\n",
       "AcceptedCmp4                    int64\n",
       "AcceptedCmp5                    int64\n",
       "AcceptedCmp1                    int64\n",
       "AcceptedCmp2                    int64\n",
       "Complain                        int64\n",
       "Z_CostContact                   int64\n",
       "Z_Revenue                       int64\n",
       "Response                        int64\n",
       "dtype: object"
      ]
     },
     "execution_count": 12,
     "metadata": {},
     "output_type": "execute_result"
    }
   ],
   "source": [
    "df_customer.dtypes"
   ]
  },
  {
   "cell_type": "markdown",
   "id": "7e12d1bf",
   "metadata": {},
   "source": [
    "### Check for Missing Data"
   ]
  },
  {
   "cell_type": "code",
   "execution_count": 13,
   "id": "531a1c57",
   "metadata": {},
   "outputs": [
    {
     "data": {
      "text/plain": [
       "False"
      ]
     },
     "execution_count": 13,
     "metadata": {},
     "output_type": "execute_result"
    }
   ],
   "source": [
    "df_customer.isnull().values.any()"
   ]
  },
  {
   "cell_type": "markdown",
   "id": "b109feaa",
   "metadata": {},
   "source": [
    "# Data Visualization"
   ]
  },
  {
   "cell_type": "code",
   "execution_count": 14,
   "id": "7d8dcf4c",
   "metadata": {},
   "outputs": [],
   "source": [
    "import matplotlib.pyplot as plt\n",
    "import seaborn as sns"
   ]
  },
  {
   "cell_type": "markdown",
   "id": "923a4c89",
   "metadata": {},
   "source": [
    "## Year of Birth"
   ]
  },
  {
   "cell_type": "code",
   "execution_count": 15,
   "id": "339fdcba",
   "metadata": {},
   "outputs": [
    {
     "data": {
      "text/plain": [
       "[1893,\n",
       " 1899,\n",
       " 1900,\n",
       " 1940,\n",
       " 1941,\n",
       " 1943,\n",
       " 1944,\n",
       " 1945,\n",
       " 1946,\n",
       " 1947,\n",
       " 1948,\n",
       " 1949,\n",
       " 1950,\n",
       " 1951,\n",
       " 1952,\n",
       " 1953,\n",
       " 1954,\n",
       " 1955,\n",
       " 1956,\n",
       " 1957,\n",
       " 1958,\n",
       " 1959,\n",
       " 1960,\n",
       " 1961,\n",
       " 1962,\n",
       " 1963,\n",
       " 1964,\n",
       " 1965,\n",
       " 1966,\n",
       " 1967,\n",
       " 1968,\n",
       " 1969,\n",
       " 1970,\n",
       " 1971,\n",
       " 1972,\n",
       " 1973,\n",
       " 1974,\n",
       " 1975,\n",
       " 1976,\n",
       " 1977,\n",
       " 1978,\n",
       " 1979,\n",
       " 1980,\n",
       " 1981,\n",
       " 1982,\n",
       " 1983,\n",
       " 1984,\n",
       " 1985,\n",
       " 1986,\n",
       " 1987,\n",
       " 1988,\n",
       " 1989,\n",
       " 1990,\n",
       " 1991,\n",
       " 1992,\n",
       " 1993,\n",
       " 1994,\n",
       " 1995,\n",
       " 1996]"
      ]
     },
     "execution_count": 15,
     "metadata": {},
     "output_type": "execute_result"
    }
   ],
   "source": [
    "sorted(df_customer['Year_Birth'].unique())"
   ]
  },
  {
   "cell_type": "code",
   "execution_count": 16,
   "id": "a58fc43f",
   "metadata": {},
   "outputs": [
    {
     "data": {
      "text/plain": [
       "<AxesSubplot:xlabel='Year_Birth', ylabel='Count'>"
      ]
     },
     "execution_count": 16,
     "metadata": {},
     "output_type": "execute_result"
    },
    {
     "data": {
      "image/png": "[encoded data removed]",
      "text/plain": [
       "<Figure size 720x360 with 1 Axes>"
      ]
     },
     "metadata": {
      "needs_background": "light"
     },
     "output_type": "display_data"
    }
   ],
   "source": [
    "fig = plt.figure(figsize = (10,5))\n",
    "sns.histplot(x= df_customer.Year_Birth, color = 'green')"
   ]
  },
  {
   "cell_type": "markdown",
   "id": "db559287",
   "metadata": {},
   "source": [
    "## Education"
   ]
  },
  {
   "cell_type": "code",
   "execution_count": 17,
   "id": "803a6f08",
   "metadata": {},
   "outputs": [
    {
     "data": {
      "text/plain": [
       "<AxesSubplot:xlabel='Education'>"
      ]
     },
     "execution_count": 17,
     "metadata": {},
     "output_type": "execute_result"
    },
    {
     "data": {
      "image/png": "[encoded data removed]",
      "text/plain": [
       "<Figure size 720x360 with 1 Axes>"
      ]
     },
     "metadata": {
      "needs_background": "light"
     },
     "output_type": "display_data"
    }
   ],
   "source": [
    "df_customer.groupby(\"Education\")['ID'].count().plot(kind = 'bar', figsize = (10,5), color = 'aqua')"
   ]
  },
  {
   "cell_type": "markdown",
   "id": "c7030681",
   "metadata": {},
   "source": [
    "## Marital Status"
   ]
  },
  {
   "cell_type": "code",
   "execution_count": 18,
   "id": "9e863663",
   "metadata": {},
   "outputs": [
    {
     "data": {
      "text/plain": [
       "<AxesSubplot:xlabel='Marital_Status'>"
      ]
     },
     "execution_count": 18,
     "metadata": {},
     "output_type": "execute_result"
    },
    {
     "data": {
      "image/png": "[encoded data removed]",
      "text/plain": [
       "<Figure size 720x360 with 1 Axes>"
      ]
     },
     "metadata": {
      "needs_background": "light"
     },
     "output_type": "display_data"
    }
   ],
   "source": [
    "df_customer.groupby(\"Marital_Status\")['ID'].count().plot(kind = 'bar', figsize = (10,5), color = 'orange')"
   ]
  },
  {
   "cell_type": "markdown",
   "id": "47dcb71b",
   "metadata": {},
   "source": [
    "## Income"
   ]
  },
  {
   "cell_type": "code",
   "execution_count": 19,
   "id": "4feee087",
   "metadata": {},
   "outputs": [
    {
     "name": "stderr",
     "output_type": "stream",
     "text": [
      "/Users/oindrilasen/opt/anaconda3/lib/python3.8/site-packages/seaborn/distributions.py:2557: FutureWarning: `distplot` is a deprecated function and will be removed in a future version. Please adapt your code to use either `displot` (a figure-level function with similar flexibility) or `histplot` (an axes-level function for histograms).\n",
      "  warnings.warn(msg, FutureWarning)\n"
     ]
    },
    {
     "data": {
      "text/plain": [
       "<AxesSubplot:xlabel='Income', ylabel='Density'>"
      ]
     },
     "execution_count": 19,
     "metadata": {},
     "output_type": "execute_result"
    },
    {
     "data": {
      "image/png": "[encoded data removed]",
      "text/plain": [
       "<Figure size 720x360 with 1 Axes>"
      ]
     },
     "metadata": {
      "needs_background": "light"
     },
     "output_type": "display_data"
    }
   ],
   "source": [
    "fig = plt.figure(figsize = (10,5))\n",
    "sns.distplot(df_customer.Income, bins = 5)"
   ]
  },
  {
   "cell_type": "markdown",
   "id": "bb3a66bf",
   "metadata": {},
   "source": [
    "## Kids at Home"
   ]
  },
  {
   "cell_type": "code",
   "execution_count": 20,
   "id": "8f8bfee8",
   "metadata": {},
   "outputs": [
    {
     "data": {
      "text/plain": [
       "<AxesSubplot:xlabel='Kidhome'>"
      ]
     },
     "execution_count": 20,
     "metadata": {},
     "output_type": "execute_result"
    },
    {
     "data": {
      "image/png": "[encoded data removed]",
      "text/plain": [
       "<Figure size 720x360 with 1 Axes>"
      ]
     },
     "metadata": {
      "needs_background": "light"
     },
     "output_type": "display_data"
    }
   ],
   "source": [
    "df_customer.groupby(\"Kidhome\")['ID'].count().plot(kind = 'bar', figsize = (10,5))"
   ]
  },
  {
   "cell_type": "markdown",
   "id": "ce581e84",
   "metadata": {},
   "source": [
    "## Teens at Home"
   ]
  },
  {
   "cell_type": "code",
   "execution_count": 21,
   "id": "256efb5f",
   "metadata": {},
   "outputs": [
    {
     "data": {
      "text/plain": [
       "<AxesSubplot:xlabel='Teenhome'>"
      ]
     },
     "execution_count": 21,
     "metadata": {},
     "output_type": "execute_result"
    },
    {
     "data": {
      "image/png": "[encoded data removed]",
      "text/plain": [
       "<Figure size 720x360 with 1 Axes>"
      ]
     },
     "metadata": {
      "needs_background": "light"
     },
     "output_type": "display_data"
    }
   ],
   "source": [
    "df_customer.groupby(\"Teenhome\")['ID'].count().plot(kind = 'bar', figsize = (10,5))"
   ]
  },
  {
   "cell_type": "markdown",
   "id": "c93565c7",
   "metadata": {},
   "source": [
    "## Date of Enrollment"
   ]
  },
  {
   "cell_type": "code",
   "execution_count": 22,
   "id": "0a695e5d",
   "metadata": {},
   "outputs": [
    {
     "data": {
      "text/plain": [
       "<AxesSubplot:xlabel='Dt_Customer'>"
      ]
     },
     "execution_count": 22,
     "metadata": {},
     "output_type": "execute_result"
    },
    {
     "data": {
      "image/png": "[encoded data removed]",
      "text/plain": [
       "<Figure size 720x360 with 1 Axes>"
      ]
     },
     "metadata": {
      "needs_background": "light"
     },
     "output_type": "display_data"
    }
   ],
   "source": [
    "df_customer.groupby(pd.DatetimeIndex(df_customer.Dt_Customer).year)['ID'].count().plot(kind = 'bar', figsize = (10,5), color = 'yellow')\n"
   ]
  },
  {
   "cell_type": "markdown",
   "id": "a9fede52",
   "metadata": {},
   "source": [
    "## Recency"
   ]
  },
  {
   "cell_type": "code",
   "execution_count": 23,
   "id": "4cb68da5",
   "metadata": {},
   "outputs": [
    {
     "name": "stderr",
     "output_type": "stream",
     "text": [
      "/Users/oindrilasen/opt/anaconda3/lib/python3.8/site-packages/seaborn/distributions.py:2557: FutureWarning: `distplot` is a deprecated function and will be removed in a future version. Please adapt your code to use either `displot` (a figure-level function with similar flexibility) or `histplot` (an axes-level function for histograms).\n",
      "  warnings.warn(msg, FutureWarning)\n"
     ]
    },
    {
     "data": {
      "text/plain": [
       "<AxesSubplot:ylabel='Density'>"
      ]
     },
     "execution_count": 23,
     "metadata": {},
     "output_type": "execute_result"
    },
    {
     "data": {
      "image/png": "[encoded data removed]",
      "text/plain": [
       "<Figure size 720x360 with 1 Axes>"
      ]
     },
     "metadata": {
      "needs_background": "light"
     },
     "output_type": "display_data"
    }
   ],
   "source": [
    "fig = plt.figure(figsize = (10,5))\n",
    "sns.distplot(x= df_customer.Recency)"
   ]
  },
  {
   "cell_type": "markdown",
   "id": "eb98f2b4",
   "metadata": {},
   "source": [
    "## Store or Web Purchase?"
   ]
  },
  {
   "cell_type": "code",
   "execution_count": 24,
   "id": "5744c9d5",
   "metadata": {},
   "outputs": [
    {
     "data": {
      "text/plain": [
       "<AxesSubplot:>"
      ]
     },
     "execution_count": 24,
     "metadata": {},
     "output_type": "execute_result"
    },
    {
     "data": {
      "image/png": "[encoded data removed]",
      "text/plain": [
       "<Figure size 720x360 with 1 Axes>"
      ]
     },
     "metadata": {
      "needs_background": "light"
     },
     "output_type": "display_data"
    }
   ],
   "source": [
    "df_customer[['NumWebPurchases','NumStorePurchases']].sum().plot(kind = 'bar', figsize= (10,5))"
   ]
  },
  {
   "cell_type": "markdown",
   "id": "d17615ae",
   "metadata": {},
   "source": [
    "## Shopping Trends"
   ]
  },
  {
   "cell_type": "code",
   "execution_count": 25,
   "id": "b51e60cf",
   "metadata": {},
   "outputs": [
    {
     "data": {
      "text/html": [
       "<div>\n",
       "<style scoped>\n",
       "    .dataframe tbody tr th:only-of-type {\n",
       "        vertical-align: middle;\n",
       "    }\n",
       "\n",
       "    .dataframe tbody tr th {\n",
       "        vertical-align: top;\n",
       "    }\n",
       "\n",
       "    .dataframe thead th {\n",
       "        text-align: right;\n",
       "    }\n",
       "</style>\n",
       "<table border=\"1\" class=\"dataframe\">\n",
       "  <thead>\n",
       "    <tr style=\"text-align: right;\">\n",
       "      <th></th>\n",
       "      <th>Kidhome</th>\n",
       "      <th>MntWines</th>\n",
       "      <th>MntFruits</th>\n",
       "      <th>MntMeatProducts</th>\n",
       "      <th>MntFishProducts</th>\n",
       "      <th>MntSweetProducts</th>\n",
       "      <th>MntGoldProds</th>\n",
       "    </tr>\n",
       "  </thead>\n",
       "  <tbody>\n",
       "    <tr>\n",
       "      <th>0</th>\n",
       "      <td>0</td>\n",
       "      <td>635</td>\n",
       "      <td>88</td>\n",
       "      <td>546</td>\n",
       "      <td>172</td>\n",
       "      <td>88</td>\n",
       "      <td>88</td>\n",
       "    </tr>\n",
       "    <tr>\n",
       "      <th>1</th>\n",
       "      <td>1</td>\n",
       "      <td>11</td>\n",
       "      <td>1</td>\n",
       "      <td>6</td>\n",
       "      <td>2</td>\n",
       "      <td>1</td>\n",
       "      <td>6</td>\n",
       "    </tr>\n",
       "    <tr>\n",
       "      <th>2</th>\n",
       "      <td>0</td>\n",
       "      <td>426</td>\n",
       "      <td>49</td>\n",
       "      <td>127</td>\n",
       "      <td>111</td>\n",
       "      <td>21</td>\n",
       "      <td>42</td>\n",
       "    </tr>\n",
       "    <tr>\n",
       "      <th>3</th>\n",
       "      <td>1</td>\n",
       "      <td>11</td>\n",
       "      <td>4</td>\n",
       "      <td>20</td>\n",
       "      <td>10</td>\n",
       "      <td>3</td>\n",
       "      <td>5</td>\n",
       "    </tr>\n",
       "    <tr>\n",
       "      <th>4</th>\n",
       "      <td>1</td>\n",
       "      <td>173</td>\n",
       "      <td>43</td>\n",
       "      <td>118</td>\n",
       "      <td>46</td>\n",
       "      <td>27</td>\n",
       "      <td>15</td>\n",
       "    </tr>\n",
       "    <tr>\n",
       "      <th>...</th>\n",
       "      <td>...</td>\n",
       "      <td>...</td>\n",
       "      <td>...</td>\n",
       "      <td>...</td>\n",
       "      <td>...</td>\n",
       "      <td>...</td>\n",
       "      <td>...</td>\n",
       "    </tr>\n",
       "    <tr>\n",
       "      <th>2211</th>\n",
       "      <td>0</td>\n",
       "      <td>709</td>\n",
       "      <td>43</td>\n",
       "      <td>182</td>\n",
       "      <td>42</td>\n",
       "      <td>118</td>\n",
       "      <td>247</td>\n",
       "    </tr>\n",
       "    <tr>\n",
       "      <th>2212</th>\n",
       "      <td>2</td>\n",
       "      <td>406</td>\n",
       "      <td>0</td>\n",
       "      <td>30</td>\n",
       "      <td>0</td>\n",
       "      <td>0</td>\n",
       "      <td>8</td>\n",
       "    </tr>\n",
       "    <tr>\n",
       "      <th>2213</th>\n",
       "      <td>0</td>\n",
       "      <td>908</td>\n",
       "      <td>48</td>\n",
       "      <td>217</td>\n",
       "      <td>32</td>\n",
       "      <td>12</td>\n",
       "      <td>24</td>\n",
       "    </tr>\n",
       "    <tr>\n",
       "      <th>2214</th>\n",
       "      <td>0</td>\n",
       "      <td>428</td>\n",
       "      <td>30</td>\n",
       "      <td>214</td>\n",
       "      <td>80</td>\n",
       "      <td>30</td>\n",
       "      <td>61</td>\n",
       "    </tr>\n",
       "    <tr>\n",
       "      <th>2215</th>\n",
       "      <td>1</td>\n",
       "      <td>84</td>\n",
       "      <td>3</td>\n",
       "      <td>61</td>\n",
       "      <td>2</td>\n",
       "      <td>1</td>\n",
       "      <td>21</td>\n",
       "    </tr>\n",
       "  </tbody>\n",
       "</table>\n",
       "<p>2216 rows × 7 columns</p>\n",
       "</div>"
      ],
      "text/plain": [
       "      Kidhome  MntWines  MntFruits  MntMeatProducts  MntFishProducts  \\\n",
       "0           0       635         88              546              172   \n",
       "1           1        11          1                6                2   \n",
       "2           0       426         49              127              111   \n",
       "3           1        11          4               20               10   \n",
       "4           1       173         43              118               46   \n",
       "...       ...       ...        ...              ...              ...   \n",
       "2211        0       709         43              182               42   \n",
       "2212        2       406          0               30                0   \n",
       "2213        0       908         48              217               32   \n",
       "2214        0       428         30              214               80   \n",
       "2215        1        84          3               61                2   \n",
       "\n",
       "      MntSweetProducts  MntGoldProds  \n",
       "0                   88            88  \n",
       "1                    1             6  \n",
       "2                   21            42  \n",
       "3                    3             5  \n",
       "4                   27            15  \n",
       "...                ...           ...  \n",
       "2211               118           247  \n",
       "2212                 0             8  \n",
       "2213                12            24  \n",
       "2214                30            61  \n",
       "2215                 1            21  \n",
       "\n",
       "[2216 rows x 7 columns]"
      ]
     },
     "execution_count": 25,
     "metadata": {},
     "output_type": "execute_result"
    }
   ],
   "source": [
    "df = df_customer[['Kidhome','MntWines','MntFruits','MntMeatProducts','MntFishProducts','MntSweetProducts','MntGoldProds']]\n",
    "df"
   ]
  },
  {
   "cell_type": "code",
   "execution_count": 26,
   "id": "d058948d",
   "metadata": {},
   "outputs": [
    {
     "data": {
      "image/png": "[encoded data removed]",
      "text/plain": [
       "<Figure size 720x504 with 1 Axes>"
      ]
     },
     "metadata": {
      "needs_background": "light"
     },
     "output_type": "display_data"
    }
   ],
   "source": [
    "fig, ax = plt.subplots(figsize=(10,7))\n",
    "ax = df.groupby(\"Kidhome\")[['MntWines','MntFruits','MntMeatProducts','MntFishProducts','MntSweetProducts','MntGoldProds']].sum().plot(kind = \"bar\",ax = ax)\n",
    "plt.show()"
   ]
  },
  {
   "cell_type": "code",
   "execution_count": 27,
   "id": "95efc82e",
   "metadata": {},
   "outputs": [
    {
     "data": {
      "image/png": "[encoded data removed]",
      "text/plain": [
       "<Figure size 720x504 with 1 Axes>"
      ]
     },
     "metadata": {
      "needs_background": "light"
     },
     "output_type": "display_data"
    }
   ],
   "source": [
    "fig, ax = plt.subplots(figsize=(10,7))\n",
    "ax = df_customer.groupby(\"Teenhome\")[['MntWines','MntFruits','MntMeatProducts','MntFishProducts','MntSweetProducts','MntGoldProds']].sum().plot(kind = \"bar\",ax = ax)\n",
    "plt.show()"
   ]
  },
  {
   "cell_type": "markdown",
   "id": "9c13f269",
   "metadata": {},
   "source": [
    "## Deals and Catalogs"
   ]
  },
  {
   "cell_type": "code",
   "execution_count": 28,
   "id": "b3c69f28",
   "metadata": {},
   "outputs": [
    {
     "data": {
      "text/html": [
       "<div>\n",
       "<style scoped>\n",
       "    .dataframe tbody tr th:only-of-type {\n",
       "        vertical-align: middle;\n",
       "    }\n",
       "\n",
       "    .dataframe tbody tr th {\n",
       "        vertical-align: top;\n",
       "    }\n",
       "\n",
       "    .dataframe thead th {\n",
       "        text-align: right;\n",
       "    }\n",
       "</style>\n",
       "<table border=\"1\" class=\"dataframe\">\n",
       "  <thead>\n",
       "    <tr style=\"text-align: right;\">\n",
       "      <th></th>\n",
       "      <th>ID</th>\n",
       "      <th>Year_Birth</th>\n",
       "      <th>NumDealsPurchases</th>\n",
       "      <th>NumWebPurchases</th>\n",
       "      <th>NumCatalogPurchases</th>\n",
       "      <th>NumStorePurchases</th>\n",
       "      <th>NumWebVisitsMonth</th>\n",
       "    </tr>\n",
       "  </thead>\n",
       "  <tbody>\n",
       "    <tr>\n",
       "      <th>0</th>\n",
       "      <td>5524</td>\n",
       "      <td>1957</td>\n",
       "      <td>3</td>\n",
       "      <td>8</td>\n",
       "      <td>10</td>\n",
       "      <td>4</td>\n",
       "      <td>7</td>\n",
       "    </tr>\n",
       "    <tr>\n",
       "      <th>1</th>\n",
       "      <td>2174</td>\n",
       "      <td>1954</td>\n",
       "      <td>2</td>\n",
       "      <td>1</td>\n",
       "      <td>1</td>\n",
       "      <td>2</td>\n",
       "      <td>5</td>\n",
       "    </tr>\n",
       "    <tr>\n",
       "      <th>2</th>\n",
       "      <td>4141</td>\n",
       "      <td>1965</td>\n",
       "      <td>1</td>\n",
       "      <td>8</td>\n",
       "      <td>2</td>\n",
       "      <td>10</td>\n",
       "      <td>4</td>\n",
       "    </tr>\n",
       "    <tr>\n",
       "      <th>3</th>\n",
       "      <td>6182</td>\n",
       "      <td>1984</td>\n",
       "      <td>2</td>\n",
       "      <td>2</td>\n",
       "      <td>0</td>\n",
       "      <td>4</td>\n",
       "      <td>6</td>\n",
       "    </tr>\n",
       "    <tr>\n",
       "      <th>4</th>\n",
       "      <td>5324</td>\n",
       "      <td>1981</td>\n",
       "      <td>5</td>\n",
       "      <td>5</td>\n",
       "      <td>3</td>\n",
       "      <td>6</td>\n",
       "      <td>5</td>\n",
       "    </tr>\n",
       "    <tr>\n",
       "      <th>...</th>\n",
       "      <td>...</td>\n",
       "      <td>...</td>\n",
       "      <td>...</td>\n",
       "      <td>...</td>\n",
       "      <td>...</td>\n",
       "      <td>...</td>\n",
       "      <td>...</td>\n",
       "    </tr>\n",
       "    <tr>\n",
       "      <th>2211</th>\n",
       "      <td>10870</td>\n",
       "      <td>1967</td>\n",
       "      <td>2</td>\n",
       "      <td>9</td>\n",
       "      <td>3</td>\n",
       "      <td>4</td>\n",
       "      <td>5</td>\n",
       "    </tr>\n",
       "    <tr>\n",
       "      <th>2212</th>\n",
       "      <td>4001</td>\n",
       "      <td>1946</td>\n",
       "      <td>7</td>\n",
       "      <td>8</td>\n",
       "      <td>2</td>\n",
       "      <td>5</td>\n",
       "      <td>7</td>\n",
       "    </tr>\n",
       "    <tr>\n",
       "      <th>2213</th>\n",
       "      <td>7270</td>\n",
       "      <td>1981</td>\n",
       "      <td>1</td>\n",
       "      <td>2</td>\n",
       "      <td>3</td>\n",
       "      <td>13</td>\n",
       "      <td>6</td>\n",
       "    </tr>\n",
       "    <tr>\n",
       "      <th>2214</th>\n",
       "      <td>8235</td>\n",
       "      <td>1956</td>\n",
       "      <td>2</td>\n",
       "      <td>6</td>\n",
       "      <td>5</td>\n",
       "      <td>10</td>\n",
       "      <td>3</td>\n",
       "    </tr>\n",
       "    <tr>\n",
       "      <th>2215</th>\n",
       "      <td>9405</td>\n",
       "      <td>1954</td>\n",
       "      <td>3</td>\n",
       "      <td>3</td>\n",
       "      <td>1</td>\n",
       "      <td>4</td>\n",
       "      <td>7</td>\n",
       "    </tr>\n",
       "  </tbody>\n",
       "</table>\n",
       "<p>2216 rows × 7 columns</p>\n",
       "</div>"
      ],
      "text/plain": [
       "         ID  Year_Birth  NumDealsPurchases  NumWebPurchases  \\\n",
       "0      5524        1957                  3                8   \n",
       "1      2174        1954                  2                1   \n",
       "2      4141        1965                  1                8   \n",
       "3      6182        1984                  2                2   \n",
       "4      5324        1981                  5                5   \n",
       "...     ...         ...                ...              ...   \n",
       "2211  10870        1967                  2                9   \n",
       "2212   4001        1946                  7                8   \n",
       "2213   7270        1981                  1                2   \n",
       "2214   8235        1956                  2                6   \n",
       "2215   9405        1954                  3                3   \n",
       "\n",
       "      NumCatalogPurchases  NumStorePurchases  NumWebVisitsMonth  \n",
       "0                      10                  4                  7  \n",
       "1                       1                  2                  5  \n",
       "2                       2                 10                  4  \n",
       "3                       0                  4                  6  \n",
       "4                       3                  6                  5  \n",
       "...                   ...                ...                ...  \n",
       "2211                    3                  4                  5  \n",
       "2212                    2                  5                  7  \n",
       "2213                    3                 13                  6  \n",
       "2214                    5                 10                  3  \n",
       "2215                    1                  4                  7  \n",
       "\n",
       "[2216 rows x 7 columns]"
      ]
     },
     "execution_count": 28,
     "metadata": {},
     "output_type": "execute_result"
    }
   ],
   "source": [
    "df_customer[['ID','Year_Birth','NumDealsPurchases','NumWebPurchases','NumCatalogPurchases','NumStorePurchases','NumWebVisitsMonth']]"
   ]
  },
  {
   "cell_type": "code",
   "execution_count": 29,
   "id": "240ed268",
   "metadata": {},
   "outputs": [
    {
     "data": {
      "image/png": "[encoded data removed]",
      "text/plain": [
       "<Figure size 1080x504 with 1 Axes>"
      ]
     },
     "metadata": {
      "needs_background": "light"
     },
     "output_type": "display_data"
    }
   ],
   "source": [
    "fig, ax = plt.subplots(figsize=(15,7))\n",
    "ax = df_customer.groupby(\"Year_Birth\")[['NumDealsPurchases','NumCatalogPurchases']].sum().plot(ax = ax)\n",
    "plt.show()"
   ]
  },
  {
   "cell_type": "markdown",
   "id": "48344dd6",
   "metadata": {},
   "source": [
    "# -------- The End -----------"
   ]
  },
  {
   "cell_type": "markdown",
   "id": "de2f6d7e",
   "metadata": {},
   "source": [
    "# Thank You!"
   ]
  },
  {
   "cell_type": "code",
   "execution_count": null,
   "id": "190ab06a",
   "metadata": {},
   "outputs": [],
   "source": []
  }
 ],
 "metadata": {
  "kernelspec": {
   "display_name": "Python 3",
   "language": "python",
   "name": "python3"
  },
  "language_info": {
   "codemirror_mode": {
    "name": "ipython",
    "version": 3
   },
   "file_extension": ".py",
   "mimetype": "text/x-python",
   "name": "python",
   "nbconvert_exporter": "python",
   "pygments_lexer": "ipython3",
   "version": "3.8.8"
  }
 },
 "nbformat": 4,
 "nbformat_minor": 5
}
